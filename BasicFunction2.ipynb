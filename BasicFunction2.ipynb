{
  "nbformat": 4,
  "nbformat_minor": 0,
  "metadata": {
    "colab": {
      "name": "Untitled23.ipynb",
      "provenance": [],
      "authorship_tag": "ABX9TyNKJxVBxpyGVN35mSr37ikl",
      "include_colab_link": true
    },
    "kernelspec": {
      "name": "python3",
      "display_name": "Python 3"
    },
    "language_info": {
      "name": "python"
    }
  },
  "cells": [
    {
      "cell_type": "markdown",
      "metadata": {
        "id": "view-in-github",
        "colab_type": "text"
      },
      "source": [
        "<a href=\"https://colab.research.google.com/github/cjfghk5697/Pandas_Practice/blob/main/BasicFunction2.ipynb\" target=\"_parent\"><img src=\"https://colab.research.google.com/assets/colab-badge.svg\" alt=\"Open In Colab\"/></a>"
      ]
    },
    {
      "cell_type": "markdown",
      "metadata": {
        "id": "umlhwsMUFliT"
      },
      "source": [
        "<h1>판다스 활용 2번째</h1>\n",
        "데이터 프레임의 null 여부 확인"
      ]
    },
    {
      "cell_type": "code",
      "metadata": {
        "colab": {
          "base_uri": "https://localhost:8080/"
        },
        "id": "aeTJvm8JFhHN",
        "outputId": "07fc8028-1988-4696-9720-7360f2ab8dfb"
      },
      "source": [
        "import numpy as np\n",
        "import pandas as pd\n",
        "\n",
        "word_dict={\n",
        "    'Apple':'사과',\n",
        "    'Banana':'바나나',\n",
        "    'Carrot':'당근',\n",
        "    'Durian':'두리안'\n",
        "}\n",
        "frequency_dict={\n",
        "    'Apple':3,\n",
        "    'Banana':5,\n",
        "    'Carrot': np.nan,\n",
        "    'Durian':2\n",
        "\n",
        "}\n",
        "importance_dict={\n",
        "    'Apple':3,\n",
        "    'Banana':2,\n",
        "    'Carrot':1,\n",
        "    'Durian':1\n",
        "}\n",
        "\n",
        "word = pd.Series(word_dict)\n",
        "frequency = pd.Series(frequency_dict)\n",
        "importance = pd.Series(importance_dict)\n",
        "\n",
        "summary=pd.DataFrame({\n",
        "    'word':word,\n",
        "    'frequency':frequency,\n",
        "    'importance':importance\n",
        "})\n",
        "\n",
        "print(summary)\n",
        "print(summary.notnull())\n",
        "print(summary.isnull())\n",
        "summary['frequency']=summary['frequency'].fillna('데이터없음')\n",
        "print(summary)"
      ],
      "execution_count": 3,
      "outputs": [
        {
          "output_type": "stream",
          "text": [
            "       word  frequency  importance\n",
            "Apple    사과        3.0           3\n",
            "Banana  바나나        5.0           2\n",
            "Carrot   당근        NaN           1\n",
            "Durian  두리안        2.0           1\n",
            "        word  frequency  importance\n",
            "Apple   True       True        True\n",
            "Banana  True       True        True\n",
            "Carrot  True      False        True\n",
            "Durian  True       True        True\n",
            "         word  frequency  importance\n",
            "Apple   False      False       False\n",
            "Banana  False      False       False\n",
            "Carrot  False       True       False\n",
            "Durian  False      False       False\n",
            "       word frequency  importance\n",
            "Apple    사과         3           3\n",
            "Banana  바나나         5           2\n",
            "Carrot   당근     데이터없음           1\n",
            "Durian  두리안         2           1\n"
          ],
          "name": "stdout"
        }
      ]
    },
    {
      "cell_type": "markdown",
      "metadata": {
        "id": "IiwAcDApHULN"
      },
      "source": [
        "<h1>문법 설명</h1>\n",
        "pd.series()는 시리즈형으로 바꿔준다. DataFrame은 여러 시리즈를 하나의 데이터 프레임으로 만든다. notnull은 null이 아닌 것들은 true 반대는 false를 출력한다.  isnull은 그 반대다. \n",
        "<br> <br>\n",
        "fillna는 summary 데이터프레임에 null 값인것에 '데이터없음'을 넣는다."
      ]
    },
    {
      "cell_type": "markdown",
      "metadata": {
        "id": "I3v1AwAVI09M"
      },
      "source": [
        "<h1>시리즈 자료형의 연산</h1>\n",
        "여기서 주목할 포인트는 단 하나다. add(array2, fill_value=0)이다. add를 이용해 시리즈를 더했다. B인덱스는 2개의 값을 가지고 있었는데 두개를 합쳐 6으로 되었다. 그리고 fill_value=0은 결측값에 0을 넣겠다는 것이다. 만약에 fill_value='NA'를 하면 'NA' 라는 str형을 넣는다. "
      ]
    },
    {
      "cell_type": "code",
      "metadata": {
        "colab": {
          "base_uri": "https://localhost:8080/"
        },
        "id": "cVE0mJhGGskb",
        "outputId": "1316ad38-0f1e-4818-9e8b-323b0c760809"
      },
      "source": [
        "import pandas as pd\n",
        "array1=pd.Series([1,2,3], index=['A','B','C'])\n",
        "array2=pd.Series([4,5,6], index=['B','C','D'])\n",
        "\n",
        "array1=array1.add(array2, fill_value=0)\n",
        "print(array1)"
      ],
      "execution_count": 4,
      "outputs": [
        {
          "output_type": "stream",
          "text": [
            "A    1.0\n",
            "B    6.0\n",
            "C    8.0\n",
            "D    6.0\n",
            "dtype: float64\n"
          ],
          "name": "stdout"
        }
      ]
    },
    {
      "cell_type": "markdown",
      "metadata": {
        "id": "Sn9zAvuyJrTu"
      },
      "source": [
        "좀더 심화해보자."
      ]
    },
    {
      "cell_type": "code",
      "metadata": {
        "colab": {
          "base_uri": "https://localhost:8080/"
        },
        "id": "gYFUh_f_JnG-",
        "outputId": "faa78a61-faad-4577-d040-acfd20f44235"
      },
      "source": [
        "import pandas as pd\n",
        "array1=pd.DataFrame([[1,2],[3,4]], index=['A','B'])\n",
        "array2=pd.DataFrame([[1,2,3],[4,5,6],[7,8,9]], index=['B','C','D'])\n",
        "\n",
        "print(array1)\n",
        "print(array2)\n",
        "\n",
        "array1=array1.add(array2, fill_value=0)\n",
        "print(array1)"
      ],
      "execution_count": 6,
      "outputs": [
        {
          "output_type": "stream",
          "text": [
            "   0  1\n",
            "A  1  2\n",
            "B  3  4\n",
            "   0  1  2\n",
            "B  1  2  3\n",
            "C  4  5  6\n",
            "D  7  8  9\n",
            "     0    1    2\n",
            "A  1.0  2.0  NaN\n",
            "B  4.0  6.0  3.0\n",
            "C  4.0  5.0  6.0\n",
            "D  7.0  8.0  9.0\n"
          ],
          "name": "stdout"
        }
      ]
    },
    {
      "cell_type": "markdown",
      "metadata": {
        "id": "rcMZ8myBKIUk"
      },
      "source": [
        "보면 series형에서 DataFrame형으로 바꿔 다차원 배열 같이 만들었다."
      ]
    },
    {
      "cell_type": "markdown",
      "metadata": {
        "id": "86H0rhJLKccb"
      },
      "source": [
        "<h1>데이터 프레임 집계함수</h1>"
      ]
    },
    {
      "cell_type": "code",
      "metadata": {
        "colab": {
          "base_uri": "https://localhost:8080/"
        },
        "id": "l1o45fiDKbda",
        "outputId": "5b3b1fc6-e7bf-4876-8ec4-361b85b67e9c"
      },
      "source": [
        "import pandas as pd\n",
        "array1=pd.DataFrame([[1,2],[3,4]], index=['A','B'])\n",
        "array2=pd.DataFrame([[1,2,3],[4,5,6],[7,8,9]], index=['B','C','D'])\n",
        "\n",
        "\n",
        "\n",
        "array1=array1.add(array2, fill_value=0)\n",
        "print(array1)\n",
        "print(\"칼럼 1의 합:\", array1[1].sum())\n",
        "print(array1.sum())"
      ],
      "execution_count": 7,
      "outputs": [
        {
          "output_type": "stream",
          "text": [
            "     0    1    2\n",
            "A  1.0  2.0  NaN\n",
            "B  4.0  6.0  3.0\n",
            "C  4.0  5.0  6.0\n",
            "D  7.0  8.0  9.0\n",
            "칼럼 1의 합: 21.0\n",
            "0    16.0\n",
            "1    21.0\n",
            "2    18.0\n",
            "dtype: float64\n"
          ],
          "name": "stdout"
        }
      ]
    },
    {
      "cell_type": "markdown",
      "metadata": {
        "id": "WxEDPVcoTW5d"
      },
      "source": [
        "array1[1].sum()이 중요한 포인트이다.\n",
        "\n",
        "<h1>데이터 프레임의 정렬 함수</h1>"
      ]
    },
    {
      "cell_type": "code",
      "metadata": {
        "colab": {
          "base_uri": "https://localhost:8080/"
        },
        "id": "71EzMLOeTWu5",
        "outputId": "f77e6f37-a87a-4a3c-ef50-a8798b7f702a"
      },
      "source": [
        "import numpy as np\n",
        "import pandas as pd\n",
        "\n",
        "word_dict={\n",
        "    'Apple':'사과',\n",
        "    'Banana':'바나나',\n",
        "    'Carrot':'당근',\n",
        "    'Durian':'두리안'\n",
        "}\n",
        "frequency_dict={\n",
        "    'Apple':3,\n",
        "    'Banana':5,\n",
        "    'Carrot':1,\n",
        "    'Durian':2\n",
        "\n",
        "}\n",
        "importance_dict={\n",
        "    'Apple':3,\n",
        "    'Banana':2,\n",
        "    'Carrot':1,\n",
        "    'Durian':1\n",
        "}\n",
        "\n",
        "word = pd.Series(word_dict)\n",
        "frequency = pd.Series(frequency_dict)\n",
        "importance = pd.Series(importance_dict)\n",
        "\n",
        "summary=pd.DataFrame({\n",
        "    'word':word,\n",
        "    'frequency':frequency,\n",
        "    'importance':importance\n",
        "})\n",
        "summary=summary.sort_values('frequency',ascending=False)\n",
        "print(summary)"
      ],
      "execution_count": 8,
      "outputs": [
        {
          "output_type": "stream",
          "text": [
            "       word  frequency  importance\n",
            "Banana  바나나          5           2\n",
            "Apple    사과          3           3\n",
            "Durian  두리안          2           1\n",
            "Carrot   당근          1           1\n"
          ],
          "name": "stdout"
        }
      ]
    },
    {
      "cell_type": "markdown",
      "metadata": {
        "id": "tWs6AtDUUgIN"
      },
      "source": [
        "위에 보면 frequency를 내림차순으로 정렬한 것을 볼수 있다."
      ]
    }
  ]
}