{
  "nbformat": 4,
  "nbformat_minor": 0,
  "metadata": {
    "colab": {
      "name": "Untitled25.ipynb",
      "provenance": [],
      "authorship_tag": "ABX9TyPtQiRnSGPGnQrqnxrrTObS",
      "include_colab_link": true
    },
    "kernelspec": {
      "name": "python3",
      "display_name": "Python 3"
    },
    "language_info": {
      "name": "python"
    }
  },
  "cells": [
    {
      "cell_type": "markdown",
      "metadata": {
        "id": "view-in-github",
        "colab_type": "text"
      },
      "source": [
        "<a href=\"https://colab.research.google.com/github/cjfghk5697/Pandas_Practice/blob/main/BasicFunction3.ipynb\" target=\"_parent\"><img src=\"https://colab.research.google.com/assets/colab-badge.svg\" alt=\"Open In Colab\"/></a>"
      ]
    },
    {
      "cell_type": "markdown",
      "metadata": {
        "id": "r-tRrpNus5Z4"
      },
      "source": [
        "<h1>판다스 활용 3(이미지 처리 중심)</h1>\n"
      ]
    },
    {
      "cell_type": "code",
      "metadata": {
        "colab": {
          "base_uri": "https://localhost:8080/"
        },
        "id": "tsvjgYOvsv6X",
        "outputId": "cc20b779-7911-4ab3-f555-9ef11c9823d0"
      },
      "source": [
        "import numpy as np\n",
        "import pandas as pd\n",
        "\n",
        "df=pd.DataFrame(np.random.randint(1,10,(2,2)),index=[0,1], columns=[\"A\",\"B\"])\n",
        "\n",
        "#데이터 프레임 출력하기\n",
        "print(df)\n",
        "#컬럼 A의 각 원소가 5보다 작거나 같은지 출력\n",
        "print(df[\"A\"]<=5)\n",
        "#컬럼 A의 원소가 5보다 작고, 컬럼 B의 원소가 8보다 작은 행 추출\n",
        "print(df.query(\"A<=5 and B<=8\"))\n"
      ],
      "execution_count": 3,
      "outputs": [
        {
          "output_type": "stream",
          "text": [
            "   A  B\n",
            "0  7  8\n",
            "1  5  1\n",
            "0    False\n",
            "1     True\n",
            "Name: A, dtype: bool\n",
            "   A  B\n",
            "1  5  1\n"
          ],
          "name": "stdout"
        }
      ]
    },
    {
      "cell_type": "markdown",
      "metadata": {
        "id": "65nZgcl3uHf-"
      },
      "source": [
        "위 코드는 데이터 프레임의 마스킹이다. df[\"A\"]는 데이터 프레임에서 5보다 작거나 같은지 출력한다. query는 쿼리문 안에 있는 문장 그대로 5보다 작은 A, 8보다 작은 B 컬럼을 추출한다.\n",
        "<h1>데이터 프레임의 개별 연산</h1>"
      ]
    },
    {
      "cell_type": "code",
      "metadata": {
        "colab": {
          "base_uri": "https://localhost:8080/"
        },
        "id": "n-uqU-QkubQP",
        "outputId": "2e880989-664d-4a07-bb57-35e73592a4cf"
      },
      "source": [
        "import pandas as pd\n",
        "df=pd.DataFrame([[1,2,3,4],[1,2,3,4]],index=[0,1],columns=[\"A\",\"B\",\"C\",\"D\"])\n",
        "print(df)\n",
        "df=df.apply(lambda x: x+1)\n",
        "print(df)\n",
        "\n",
        "def addOne(x):\n",
        "  return x+1\n",
        "df= df.apply(addOne)\n",
        "print(df)"
      ],
      "execution_count": 4,
      "outputs": [
        {
          "output_type": "stream",
          "text": [
            "   A  B  C  D\n",
            "0  1  2  3  4\n",
            "1  1  2  3  4\n",
            "   A  B  C  D\n",
            "0  2  3  4  5\n",
            "1  2  3  4  5\n",
            "   A  B  C  D\n",
            "0  3  4  5  6\n",
            "1  3  4  5  6\n"
          ],
          "name": "stdout"
        }
      ]
    },
    {
      "cell_type": "markdown",
      "metadata": {
        "id": "Xdm16_rDvV6_"
      },
      "source": [
        "df.apply(lambda x: x+1)과 apply(addOne) 모두 데이터 프레임에 1을 더할 수 있다."
      ]
    },
    {
      "cell_type": "code",
      "metadata": {
        "colab": {
          "base_uri": "https://localhost:8080/"
        },
        "id": "nVhQ4eUuvvR6",
        "outputId": "7a8bc4a8-7f23-4ad2-97bd-dad7e61d1565"
      },
      "source": [
        "import pandas as pd\n",
        "\n",
        "df= pd.DataFrame([\n",
        "                  ['Apple','Apple','Carrot', 'Banana'],\n",
        "                  ['Durian','Banana','Apple','Carrot']],\n",
        "                  index=[0,1],\n",
        "                  columns=[\"A\",\"B\",\"C\",\"D\"])\n",
        "print(df)\n",
        "df= df.replace({\"Apple\":\"Airport\"})\n",
        "print(df)"
      ],
      "execution_count": 5,
      "outputs": [
        {
          "output_type": "stream",
          "text": [
            "        A       B       C       D\n",
            "0   Apple   Apple  Carrot  Banana\n",
            "1  Durian  Banana   Apple  Carrot\n",
            "         A        B        C       D\n",
            "0  Airport  Airport   Carrot  Banana\n",
            "1   Durian   Banana  Airport  Carrot\n"
          ],
          "name": "stdout"
        }
      ]
    },
    {
      "cell_type": "markdown",
      "metadata": {
        "id": "8x6A3sXIwTot"
      },
      "source": [
        "df.replace로 Apple을 모두 Airport로 바꿀 수 있다. 한마디로 대체가 가능하다."
      ]
    },
    {
      "cell_type": "code",
      "metadata": {
        "colab": {
          "base_uri": "https://localhost:8080/"
        },
        "id": "nHqXGgREwZeO",
        "outputId": "7ef109db-9f9d-4b11-c24d-839ed8feb9c9"
      },
      "source": [
        "import pandas as pd\n",
        "\n",
        "df= pd.DataFrame([\n",
        "                  ['Apple',7,'Fruit'],\n",
        "                  ['Banana',3,'Fruit'],\n",
        "                  ['Beef',5,'Meal'],\n",
        "                  ['Kimchi',4,'Meal']],\n",
        "                 columns=[\"Name\", \"Frequency\",\"Type\"])\n",
        "print(df)\n",
        "print(df.groupby(['Type']).sum())"
      ],
      "execution_count": 7,
      "outputs": [
        {
          "output_type": "stream",
          "text": [
            "     Name  Frequency   Type\n",
            "0   Apple          7  Fruit\n",
            "1  Banana          3  Fruit\n",
            "2    Beef          5   Meal\n",
            "3  Kimchi          4   Meal\n",
            "       Frequency\n",
            "Type            \n",
            "Fruit         10\n",
            "Meal           9\n"
          ],
          "name": "stdout"
        }
      ]
    },
    {
      "cell_type": "markdown",
      "metadata": {
        "id": "mjt-u2N2xBRT"
      },
      "source": [
        "groupby(type)에서 같은 타입인 애들을 묶는다. 그다음 frequency를 더한다."
      ]
    },
    {
      "cell_type": "code",
      "metadata": {
        "colab": {
          "base_uri": "https://localhost:8080/"
        },
        "id": "bfwu2gkQxNe4",
        "outputId": "0a206429-ab10-48b8-a163-9b4f154a6057"
      },
      "source": [
        "import numpy as np\n",
        "import pandas as pd\n",
        "\n",
        "df= pd.DataFrame([\n",
        "                  ['Apple',7,5,'Fruit'],\n",
        "                  ['Banana',3,6,'Fruit'],\n",
        "                  ['Beef',5,2,'Meal'],\n",
        "                  ['Kimchi',4,8,'Meal']],\n",
        "                 columns=[\"Name\", \"Frequency\", \"Importance\",\"Type\"])\n",
        "print(df)\n",
        "print(df.groupby(['Type']).aggregate([min,max,np.average]))"
      ],
      "execution_count": 8,
      "outputs": [
        {
          "output_type": "stream",
          "text": [
            "     Name  Frequency  Importance   Type\n",
            "0   Apple          7           5  Fruit\n",
            "1  Banana          3           6  Fruit\n",
            "2    Beef          5           2   Meal\n",
            "3  Kimchi          4           8   Meal\n",
            "      Frequency             Importance            \n",
            "            min max average        min max average\n",
            "Type                                              \n",
            "Fruit         3   7     5.0          5   6     5.5\n",
            "Meal          4   5     4.5          2   8     5.0\n"
          ],
          "name": "stdout"
        }
      ]
    },
    {
      "cell_type": "markdown",
      "metadata": {
        "id": "0FhqcFMjyYy9"
      },
      "source": [
        "잘본다면 이번에는 importance가 추가 되었다. 그리고 aggregate로 최소 최대 평균 값을 구할 수 있다."
      ]
    },
    {
      "cell_type": "code",
      "metadata": {
        "colab": {
          "base_uri": "https://localhost:8080/"
        },
        "id": "OXhdYs3EyxP6",
        "outputId": "cdb1e73e-2e7b-4f85-d8b7-e56be7ea9279"
      },
      "source": [
        "import pandas as pd\n",
        "\n",
        "df= pd.DataFrame([\n",
        "                  ['Apple',7,5,'Fruit'],\n",
        "                  ['Banana',3,6,'Fruit'],\n",
        "                  ['Beef',5,2,'Meal'],\n",
        "                  ['Kimchi',4,8,'Meal']],\n",
        "                 columns=[\"Name\", \"Frequency\", \"Importance\",\"Type\"])\n",
        "\n",
        "def my_filter(data):\n",
        "  return data[\"Frequency\"].mean()>=5\n",
        "df=df.groupby(\"Type\").filter(my_filter)\n",
        "print(df)\n"
      ],
      "execution_count": 9,
      "outputs": [
        {
          "output_type": "stream",
          "text": [
            "     Name  Frequency  Importance   Type\n",
            "0   Apple          7           5  Fruit\n",
            "1  Banana          3           6  Fruit\n"
          ],
          "name": "stdout"
        }
      ]
    },
    {
      "cell_type": "markdown",
      "metadata": {
        "id": "D9u8u8QczXgV"
      },
      "source": [
        "이번에는 Frequency 평균이 5 이상인 것들을 가져왔다. Meal 타입 평균은 5를 못넘어서 출력되지 않았다."
      ]
    },
    {
      "cell_type": "code",
      "metadata": {
        "colab": {
          "base_uri": "https://localhost:8080/"
        },
        "id": "tBRxM2NFzKEv",
        "outputId": "2ba5889d-a3e3-4cfd-9ed6-dcb7e7c16767"
      },
      "source": [
        "import pandas as pd\n",
        "\n",
        "df= pd.DataFrame([\n",
        "                  ['Apple',7,5,'Fruit'],\n",
        "                  ['Banana',3,6,'Fruit'],\n",
        "                  ['Beef',5,2,'Meal'],\n",
        "                  ['Kimchi',4,8,'Meal']],\n",
        "                 columns=[\"Name\", \"Frequency\", \"Importance\",\"Type\"])\n",
        "\n",
        "df=df.groupby(\"Type\").get_group(\"Fruit\")\n",
        "print(df)"
      ],
      "execution_count": 10,
      "outputs": [
        {
          "output_type": "stream",
          "text": [
            "     Name  Frequency  Importance   Type\n",
            "0   Apple          7           5  Fruit\n",
            "1  Banana          3           6  Fruit\n"
          ],
          "name": "stdout"
        }
      ]
    },
    {
      "cell_type": "markdown",
      "metadata": {
        "id": "ktC6IarIzoI-"
      },
      "source": [
        "fruit 그룹만 모아서 출력했다."
      ]
    },
    {
      "cell_type": "code",
      "metadata": {
        "colab": {
          "base_uri": "https://localhost:8080/"
        },
        "id": "NdXMXzAyzWSA",
        "outputId": "92a5a8c9-3e3a-42e8-f960-03bd0939d2f8"
      },
      "source": [
        "import pandas as pd\n",
        "\n",
        "df= pd.DataFrame([\n",
        "                  ['Apple',7,5,'Fruit'],\n",
        "                  ['Banana',3,6,'Fruit'],\n",
        "                  ['Beef',5,2,'Meal'],\n",
        "                  ['Kimchi',4,8,'Meal']],\n",
        "                 columns=[\"Name\", \"Frequency\", \"Importance\",\"Type\"])\n",
        "\n",
        "df[\"Gap\"]=df.groupby(\"Type\")[\"Frequency\"].apply(lambda x: x-x.mean())\n",
        "print(df)"
      ],
      "execution_count": 11,
      "outputs": [
        {
          "output_type": "stream",
          "text": [
            "     Name  Frequency  Importance   Type  Gap\n",
            "0   Apple          7           5  Fruit  2.0\n",
            "1  Banana          3           6  Fruit -2.0\n",
            "2    Beef          5           2   Meal  0.5\n",
            "3  Kimchi          4           8   Meal -0.5\n"
          ],
          "name": "stdout"
        }
      ]
    },
    {
      "cell_type": "markdown",
      "metadata": {
        "id": "dc2agIN1z_l8"
      },
      "source": [
        "각 tpye meal과 fruit의 frequency 평균을 구해 각자 frequency에 뺀것이다. apply(lambda x:x-x.mean)으로 모든 값에 평균을 뺏다. 그렇게해서 gap이라는 별게의 컬럼에 저장했다."
      ]
    },
    {
      "cell_type": "code",
      "metadata": {
        "colab": {
          "base_uri": "https://localhost:8080/"
        },
        "id": "ueJTeutF0S_A",
        "outputId": "3077b69c-bdb6-4ef7-e1b6-27bdbcc12e05"
      },
      "source": [
        "import pandas as pd\n",
        "import numpy as np\n",
        "df= pd.DataFrame(\n",
        "    np.random.randint(1,10,(4,4)),\n",
        "    index=[['1차','1차','2차','2차'],['공격','수비','공격','수비']],\n",
        "    columns=['1회','2회','3회','4회']\n",
        ")\n",
        "\n",
        "print(df)\n",
        "print(df[[\"1회\",\"2회\"]].loc[\"2차\"])"
      ],
      "execution_count": 13,
      "outputs": [
        {
          "output_type": "stream",
          "text": [
            "       1회  2회  3회  4회\n",
            "1차 공격   7   1   2   1\n",
            "   수비   2   2   2   4\n",
            "2차 공격   2   5   4   7\n",
            "   수비   7   9   3   4\n",
            "    1회  2회\n",
            "공격   2   5\n",
            "수비   7   9\n"
          ],
          "name": "stdout"
        }
      ]
    },
    {
      "cell_type": "markdown",
      "metadata": {
        "id": "QhkP-lVg0-p5"
      },
      "source": [
        "데이터 프레임의 다중화이다."
      ]
    },
    {
      "cell_type": "code",
      "metadata": {
        "colab": {
          "base_uri": "https://localhost:8080/"
        },
        "id": "lqrrK9oU0-Dl",
        "outputId": "0364c7bd-ac7d-41a9-fffe-ac0a1f22a1c8"
      },
      "source": [
        "import pandas as pd\n",
        "import numpy as np\n",
        "df= pd.DataFrame([\n",
        "                  ['Apple',7,5,'Fruit'],\n",
        "                  ['Banana',3,6,'Fruit'],\n",
        "                  ['Coconut',2,6,'Fruit'],\n",
        "                  ['Rice',8,2,'Meal'],\n",
        "                  ['Beef',5,2,'Meal'],\n",
        "                  ['Kimchi',4,8,'Meal']],\n",
        "                 columns=[\"Name\", \"Frequency\", \"Importance\",\"Type\"])\n",
        "\n",
        "df=df.pivot_table(\n",
        "    index=\"Importance\",columns=\"Type\",values=\"Frequency\",\n",
        "    aggfunc=np.max\n",
        ")\n",
        "\n",
        "print(df) "
      ],
      "execution_count": 16,
      "outputs": [
        {
          "output_type": "stream",
          "text": [
            "Type        Fruit  Meal\n",
            "Importance             \n",
            "2             NaN   8.0\n",
            "5             7.0   NaN\n",
            "6             3.0   NaN\n",
            "8             NaN   4.0\n"
          ],
          "name": "stdout"
        }
      ]
    },
    {
      "cell_type": "markdown",
      "metadata": {
        "id": "jQvBIwWcAEL-"
      },
      "source": [
        " 데이터를 요약하는 피벗테이블의 기초이다. 중요도에 따라 팔리는 주기를 볼 수 있다."
      ]
    }
  ]
}