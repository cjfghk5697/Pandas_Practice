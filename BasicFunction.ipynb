{
  "nbformat": 4,
  "nbformat_minor": 0,
  "metadata": {
    "colab": {
      "name": "Untitled20.ipynb",
      "provenance": [],
      "collapsed_sections": [],
      "authorship_tag": "ABX9TyN7WDB5Lu3P3ukuWOfbeDc8",
      "include_colab_link": true
    },
    "kernelspec": {
      "name": "python3",
      "display_name": "Python 3"
    },
    "language_info": {
      "name": "python"
    }
  },
  "cells": [
    {
      "cell_type": "markdown",
      "metadata": {
        "id": "view-in-github",
        "colab_type": "text"
      },
      "source": [
        "<a href=\"https://colab.research.google.com/github/cjfghk5697/Pandas_Practice/blob/main/BasicFunction.ipynb\" target=\"_parent\"><img src=\"https://colab.research.google.com/assets/colab-badge.svg\" alt=\"Open In Colab\"/></a>"
      ]
    },
    {
      "cell_type": "markdown",
      "metadata": {
        "id": "VTF5DZu-YTgS"
      },
      "source": [
        "<h1>판다스 활용법</h1>\n",
        "판다스랑 데이터를 효과적으로 처리하고 보여주는 라이브러리이다. index에 따라 데이터를 나열하므로 dictinary에 가깝다. series를 기본으로 쓴다."
      ]
    },
    {
      "cell_type": "code",
      "metadata": {
        "colab": {
          "base_uri": "https://localhost:8080/"
        },
        "id": "MYz3Nx6pXyOd",
        "outputId": "fc97cc80-411c-4fba-fc56-c982d1f7bd0b"
      },
      "source": [
        "import pandas as pd\n",
        "array=pd.Series(['사과', '바나나', '당근'], index=['a','b','c'])\n",
        "print(array)\n",
        "print(array['a'])"
      ],
      "execution_count": 1,
      "outputs": [
        {
          "output_type": "stream",
          "text": [
            "a     사과\n",
            "b    바나나\n",
            "c     당근\n",
            "dtype: object\n",
            "사과\n"
          ],
          "name": "stdout"
        }
      ]
    },
    {
      "cell_type": "markdown",
      "metadata": {
        "id": "V_hfBtthZlXK"
      },
      "source": [
        "위에가 시리즈이다. 이번에는 Dict형을 Series로 바꾸겠다."
      ]
    },
    {
      "cell_type": "code",
      "metadata": {
        "colab": {
          "base_uri": "https://localhost:8080/"
        },
        "id": "8jNDeBXhX18w",
        "outputId": "95e9fb9f-e315-4894-b752-081bd65ce927"
      },
      "source": [
        "data={\n",
        "    'a':'사과',\n",
        "    'b':'바나나',\n",
        "    'c':'당근'\n",
        "}\n",
        "array=pd.Series(data)\n",
        "print(array['a'])"
      ],
      "execution_count": 2,
      "outputs": [
        {
          "output_type": "stream",
          "text": [
            "사과\n"
          ],
          "name": "stdout"
        }
      ]
    },
    {
      "cell_type": "markdown",
      "metadata": {
        "id": "rzz_c1pIaG90"
      },
      "source": [
        "<h1>데이터 프레임이란</h1>\n",
        "다수의 시리즈를 모아 처리하기 위한 목적으로 사용된다. 표 형태 데이터로 손쉽게 출력하고자 할 때 사용할 수 있다."
      ]
    },
    {
      "cell_type": "code",
      "metadata": {
        "colab": {
          "base_uri": "https://localhost:8080/"
        },
        "id": "869lcwB2aSjE",
        "outputId": "09e13849-13af-4778-dd53-5ecf59a767fb"
      },
      "source": [
        "word_dict={\n",
        "    'Apple':'사과',\n",
        "    'Banana':'바나나',\n",
        "    'Carrot':'당근'\n",
        "}\n",
        "\n",
        "frequency_dict={\n",
        "    'Apple':'3',\n",
        "    'Banana':'5',\n",
        "    'Carrot':'7'\n",
        "}\n",
        "\n",
        "word=pd.Series(word_dict)\n",
        "frequency=pd.Series(frequency_dict)\n",
        "summary=pd.DataFrame({\n",
        "    'word':word,\n",
        "    'frequency':frequency\n",
        "})\n",
        "\n",
        "print(summary)"
      ],
      "execution_count": 3,
      "outputs": [
        {
          "output_type": "stream",
          "text": [
            "       word frequency\n",
            "Apple    사과         3\n",
            "Banana  바나나         5\n",
            "Carrot   당근         7\n"
          ],
          "name": "stdout"
        }
      ]
    },
    {
      "cell_type": "markdown",
      "metadata": {
        "id": "SD1bH6t4bZhy"
      },
      "source": [
        "<h1>시리즈의 연산</h1>\n",
        "시리즈를 서로 연산하여 새로운 시리즈를 만들 수 있다.\n",
        "\n"
      ]
    },
    {
      "cell_type": "code",
      "metadata": {
        "id": "Z1-2iBtdab48",
        "colab": {
          "base_uri": "https://localhost:8080/"
        },
        "outputId": "da580e46-1db5-4d2b-8ad0-c4f71b42b848"
      },
      "source": [
        "word_dict={\n",
        "    'Apple':'사과',\n",
        "    'Banana':'바나나',\n",
        "    'Carrot':'당근'\n",
        "}\n",
        "\n",
        "frequency_dict={\n",
        "    'Apple':3,\n",
        "    'Banana':5,\n",
        "    'Carrot':7\n",
        "}\n",
        "\n",
        "important_dict={\n",
        "    'Apple':3,\n",
        "    'Banana':2,\n",
        "    'Carrot':1\n",
        "}\n",
        "\n",
        "word=pd.Series(word_dict)\n",
        "frequency=pd.Series(frequency_dict)\n",
        "importance=pd.Series(important_dict)\n",
        "\n",
        "summary=pd.DataFrame({\n",
        "    'word':word,\n",
        "    'frequency':frequency,\n",
        "    'importance':importance\n",
        "})\n",
        "score=summary['frequency']*summary['importance']\n",
        "summary['score']=score\n",
        "\n",
        "print(score)"
      ],
      "execution_count": 15,
      "outputs": [
        {
          "output_type": "stream",
          "text": [
            "Apple      9\n",
            "Banana    10\n",
            "Carrot     7\n",
            "dtype: int64\n"
          ],
          "name": "stdout"
        }
      ]
    },
    {
      "cell_type": "code",
      "metadata": {
        "id": "OOv_cWjZApt1"
      },
      "source": [
        ""
      ],
      "execution_count": null,
      "outputs": []
    },
    {
      "cell_type": "markdown",
      "metadata": {
        "id": "p785mfmVeafU"
      },
      "source": [
        "<h1>데이터 프레임 슬라이싱</h1>\n",
        "이름, 인덱스를 기준으로 슬라이싱이 가능하다."
      ]
    },
    {
      "cell_type": "code",
      "metadata": {
        "colab": {
          "base_uri": "https://localhost:8080/"
        },
        "id": "BWVjI6oac_bk",
        "outputId": "f34d7e2c-56c1-416b-ed18-70c81b91994d"
      },
      "source": [
        "#이름을 기준으로 슬라이싱\n",
        "print(summary.loc['Banana':'Carrot','importance':])\n",
        "\n",
        "#인덱스를 기준으로 슬라이싱\n",
        "print(summary.iloc[1:3, 2:])"
      ],
      "execution_count": 13,
      "outputs": [
        {
          "output_type": "stream",
          "text": [
            "        importance\n",
            "Banana           2\n",
            "Carrot           1\n",
            "        importance\n",
            "Banana           2\n",
            "Carrot           1\n"
          ],
          "name": "stdout"
        }
      ]
    },
    {
      "cell_type": "markdown",
      "metadata": {
        "id": "_BbbiEojfPrM"
      },
      "source": [
        "<h1>데이터 프레임의 연산</h1>\n"
      ]
    },
    {
      "cell_type": "code",
      "metadata": {
        "colab": {
          "base_uri": "https://localhost:8080/"
        },
        "id": "xfrwiHDoi5HG",
        "outputId": "d8039081-f0cc-4c55-b8d7-533567ef3a0d"
      },
      "source": [
        "word_dict={\n",
        "    'Apple':'사과',\n",
        "    'Banana':'바나나',\n",
        "    'Carrot':'당근'\n",
        "}\n",
        "\n",
        "frequency_dict={\n",
        "    'Apple':3,\n",
        "    'Banana':5,\n",
        "    'Carrot':7\n",
        "}\n",
        "\n",
        "important_dict={\n",
        "    'Apple':3,\n",
        "    'Banana':2,\n",
        "    'Carrot':1\n",
        "}\n",
        "\n",
        "word=pd.Series(word_dict)\n",
        "frequency=pd.Series(frequency_dict)\n",
        "importance=pd.Series(important_dict)\n",
        "\n",
        "summary=pd.DataFrame({\n",
        "    'word':word,\n",
        "    'frequency':frequency,\n",
        "    'importance':importance\n",
        "})\n",
        "\n",
        "print(summary)\n",
        "\n",
        "summary.loc['Apple', 'importance']=5 #데이터 변경\n",
        "summary.loc['Elderberry']=['엘더베리',5,3] #새 데이터 삽입\n",
        "print(summary)"
      ],
      "execution_count": 12,
      "outputs": [
        {
          "output_type": "stream",
          "text": [
            "       word  frequency  importance\n",
            "Apple    사과          3           3\n",
            "Banana  바나나          5           2\n",
            "Carrot   당근          7           1\n",
            "            word  frequency  importance\n",
            "Apple         사과          3           5\n",
            "Banana       바나나          5           2\n",
            "Carrot        당근          7           1\n",
            "Elderberry  엘더베리          5           3\n"
          ],
          "name": "stdout"
        }
      ]
    },
    {
      "cell_type": "markdown",
      "metadata": {
        "id": "Qn-oOZMgjPUr"
      },
      "source": [
        "<h1>엑셀로 내보내기/ 불러오기</h1>"
      ]
    },
    {
      "cell_type": "code",
      "metadata": {
        "colab": {
          "base_uri": "https://localhost:8080/"
        },
        "id": "zeEreCMNjTVe",
        "outputId": "cfca99c2-9baa-4ba2-f7db-d7888a54c73c"
      },
      "source": [
        "word_dict={\n",
        "    'Apple':'사과',\n",
        "    'Banana':'바나나',\n",
        "    'Carrot':'당근'\n",
        "}\n",
        "\n",
        "frequency_dict={\n",
        "    'Apple':3,\n",
        "    'Banana':5,\n",
        "    'Carrot':7\n",
        "}\n",
        "\n",
        "\n",
        "word=pd.Series(word_dict)\n",
        "frequency=pd.Series(frequency_dict)\n",
        "\n",
        "summary=pd.DataFrame({\n",
        "    'word':word,\n",
        "    'frequency':frequency,\n",
        "})\n",
        "\n",
        "summary.to_csv(\"summary.csv\",encoding=\"utf-8-sig\")\n",
        "saved=pd.read_csv(\"summary.csv\",index_col=0)\n",
        "print(saved)\n"
      ],
      "execution_count": 11,
      "outputs": [
        {
          "output_type": "stream",
          "text": [
            "       word  frequency\n",
            "Apple    사과          3\n",
            "Banana  바나나          5\n",
            "Carrot   당근          7\n"
          ],
          "name": "stdout"
        }
      ]
    }
  ]
}